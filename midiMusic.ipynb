{
  "nbformat": 4,
  "nbformat_minor": 0,
  "metadata": {
    "colab": {
      "name": "midiMusic.ipynb",
      "provenance": [],
      "collapsed_sections": [],
      "authorship_tag": "ABX9TyPoFuMfvnPDfK//jN7NpPDZ",
      "include_colab_link": true
    },
    "kernelspec": {
      "name": "python3",
      "display_name": "Python 3"
    },
    "accelerator": "GPU"
  },
  "cells": [
    {
      "cell_type": "markdown",
      "metadata": {
        "id": "view-in-github",
        "colab_type": "text"
      },
      "source": [
        "<a href=\"https://colab.research.google.com/github/NolanSmyth/deepMIDI/blob/master/midiMusic.ipynb\" target=\"_parent\"><img src=\"https://colab.research.google.com/assets/colab-badge.svg\" alt=\"Open In Colab\"/></a>"
      ]
    },
    {
      "cell_type": "markdown",
      "metadata": {
        "id": "Y6-PF1fXuW_i"
      },
      "source": [
        "## Dependences"
      ]
    },
    {
      "cell_type": "code",
      "metadata": {
        "id": "QH92s8SEujh8"
      },
      "source": [
        "# Import Tensorflow 2.0\n",
        "%tensorflow_version 2.x\n",
        "import tensorflow as tf \n",
        "\n",
        "import numpy as np\n",
        "import os\n",
        "import glob\n",
        "from music21 import *\n",
        "\n",
        "import urllib.request\n"
      ],
      "execution_count": 9,
      "outputs": []
    },
    {
      "cell_type": "code",
      "metadata": {
        "id": "U8pJti_1wO4T"
      },
      "source": [
        "with urllib.request.urlopen('http://www.python.org/') as f:\n",
        "  print(f.read(300))"
      ],
      "execution_count": null,
      "outputs": []
    },
    {
      "cell_type": "code",
      "metadata": {
        "id": "42SNNS4nw1QT",
        "outputId": "57c262ef-e7ea-4ffb-f48b-a548bd06bf5e",
        "colab": {
          "base_uri": "https://localhost:8080/",
          "height": 54
        }
      },
      "source": [
        "from google.colab import drive\n",
        "drive.mount('/content/drive')"
      ],
      "execution_count": 5,
      "outputs": [
        {
          "output_type": "stream",
          "text": [
            "Drive already mounted at /content/drive; to attempt to forcibly remount, call drive.mount(\"/content/drive\", force_remount=True).\n"
          ],
          "name": "stdout"
        }
      ]
    },
    {
      "cell_type": "code",
      "metadata": {
        "id": "JGrOeqPix_8M"
      },
      "source": [
        "notes = []\n",
        "midfs = glob.glob('/content/drive/My Drive/midi/*.mid')\n",
        "for midf in midfs:\n",
        "  midi = converter.parse(midf)\n",
        "notes_to_parse = midi.flat.notes\n",
        "for element in notes_to_parse:\n",
        "  if isinstance(element, note.Note):\n",
        "    notes.append(str(element.pitch))\n",
        "  elif isinstance(element, note.Chord):\n",
        "    notes.append('.'.join(str(n) for n in element.normalOrder))"
      ],
      "execution_count": 31,
      "outputs": []
    },
    {
      "cell_type": "code",
      "metadata": {
        "id": "Jjn88cbm1xmW"
      },
      "source": [
        "sequence_length = 10\n",
        "\n",
        "# get names of all pitches used\n",
        "pitch_names = sorted(set(notes))\n",
        "\n",
        "# create a dictionary mapping each name to a unique integer\n",
        "note_to_int = dict((note, i) for i, note in enumerate(pitch_names))\n",
        "\n",
        "# create input and output sequences to feed into neural net\n",
        "net_in = []\n",
        "net_out = []\n",
        "for i in range(0, len(notes) - sequence_length):\n",
        "  sequence_in = notes[i:i + sequence_length]\n",
        "  sequence_out = notes[i + sequence_length]\n",
        "  net_in.append([note_to_int[char] for char in sequence_in])\n",
        "  net_out.append([note_to_int[sequence_out]])"
      ],
      "execution_count": 76,
      "outputs": []
    },
    {
      "cell_type": "code",
      "metadata": {
        "id": "1SZoFi7d4ymj"
      },
      "source": [
        "n_sequences = len(net_in)\n",
        "net_in = np.reshape(net_in, (n_sequences, sequence_length, 1))"
      ],
      "execution_count": 77,
      "outputs": []
    },
    {
      "cell_type": "code",
      "metadata": {
        "id": "pcuuBw_R7R_d"
      },
      "source": [
        ""
      ],
      "execution_count": null,
      "outputs": []
    }
  ]
}